{
 "cells": [
  {
   "cell_type": "markdown",
   "metadata": {},
   "source": [
    "# json - csv transformation "
   ]
  },
  {
   "cell_type": "markdown",
   "metadata": {},
   "source": [
    "### usage of json2csv"
   ]
  },
  {
   "cell_type": "code",
   "execution_count": null,
   "metadata": {},
   "outputs": [],
   "source": [
    "const Json2csvParser = require('json2csv').Paraser;"
   ]
  },
  {
   "cell_type": "code",
   "execution_count": null,
   "metadata": {},
   "outputs": [],
   "source": [
    "const fields = ['jan', 'price', 'description'];\n",
    " \n",
    "const products = [\n",
    "  {\n",
    "    \"jan\": \"001\",\n",
    "    \"name\": \"spam\",\n",
    "    \"price\": 1000,\n",
    "    \"description\": \"spam, spam\"\n",
    "  },\n",
    "  {\n",
    "    \"jan\": \"102\",\n",
    "    \"name\": \"hoge\",\n",
    "    \"price\": 2000,\n",
    "    \"description\": \"hoge\\\" hoge\"\n",
    "  },\n",
    "  {\n",
    "    \"jan\": \"203\",\n",
    "    \"name\": \"fuga\",\n",
    "    \"price\": 3000,\n",
    "    \"description\": \"fuga fuga\"\n",
    "  },\n",
    "];\n",
    " \n"
   ]
  },
  {
   "cell_type": "code",
   "execution_count": null,
   "metadata": {},
   "outputs": [],
   "source": [
    "const json2csvParser = new Json2csvParser({ fields, header: true });\n",
    "const csv = json2csvParser.parse(products);"
   ]
  },
  {
   "cell_type": "code",
   "execution_count": null,
   "metadata": {},
   "outputs": [],
   "source": [
    "console.log(csv);"
   ]
  },
  {
   "cell_type": "markdown",
   "metadata": {},
   "source": [
    "### usage of csvtojson"
   ]
  },
  {
   "cell_type": "code",
   "execution_count": null,
   "metadata": {},
   "outputs": [],
   "source": [
    "const csvtojson =require('csvtojson');\n",
    "\n",
    "let lst2 = [];\n",
    "let csv_file = './event.log'\n",
    "\n"
   ]
  },
  {
   "cell_type": "code",
   "execution_count": null,
   "metadata": {},
   "outputs": [],
   "source": [
    "// FIXME\n",
    "\n",
    "csvtojson()\n",
    "    .fromFile(csv_file)\n",
    "    .on('json',(jsonObj)=>{\n",
    "        lst2.push(jsonObj);\n",
    "    })\n",
    "    .on('done',(error)=>{\n",
    "        console.log(lst2);\n",
    "    });"
   ]
  },
  {
   "cell_type": "markdown",
   "metadata": {},
   "source": [
    "## usage of csv"
   ]
  },
  {
   "cell_type": "code",
   "execution_count": 1,
   "metadata": {},
   "outputs": [],
   "source": [
    "const csv = require('csv')"
   ]
  },
  {
   "cell_type": "code",
   "execution_count": 2,
   "metadata": {},
   "outputs": [],
   "source": [
    "const fs = require('fs');"
   ]
  },
  {
   "cell_type": "code",
   "execution_count": 3,
   "metadata": {},
   "outputs": [],
   "source": [
    "const csv_path = './event.log';"
   ]
  },
  {
   "cell_type": "code",
   "execution_count": 4,
   "metadata": {},
   "outputs": [],
   "source": [
    "const columns = [\"TimeCreated\",\"Id\",\"Message\"];"
   ]
  },
  {
   "cell_type": "code",
   "execution_count": 5,
   "metadata": {},
   "outputs": [],
   "source": [
    "const parser = csv.parse({columns: columns, skip_empty_lines: true, from_line:2 });\n",
    "const readableStream = fs.createReadStream(csv_path, {encoding: 'utf-8'});"
   ]
  },
  {
   "cell_type": "code",
   "execution_count": 6,
   "metadata": {},
   "outputs": [
    {
     "name": "stdout",
     "output_type": "stream",
     "text": [
      "------------- start\n"
     ]
    },
    {
     "data": {
      "text/plain": [
       "Parser {\n",
       "  _readableState: \n",
       "   ReadableState {\n",
       "     objectMode: true,\n",
       "     highWaterMark: 16,\n",
       "     buffer: BufferList { head: null, tail: null, length: 0 },\n",
       "     length: 0,\n",
       "     pipes: null,\n",
       "     pipesCount: 0,\n",
       "     flowing: null,\n",
       "     ended: false,\n",
       "     endEmitted: false,\n",
       "     reading: false,\n",
       "     sync: false,\n",
       "     needReadable: true,\n",
       "     emittedReadable: false,\n",
       "     readableListening: true,\n",
       "     resumeScheduled: false,\n",
       "     destroyed: false,\n",
       "     defaultEncoding: 'utf8',\n",
       "     awaitDrain: 0,\n",
       "     readingMore: false,\n",
       "     decoder: null,\n",
       "     encoding: null },\n",
       "  readable: true,\n",
       "  domain: null,\n",
       "  _events: \n",
       "   { end: [ [Object], [Function] ],\n",
       "     prefinish: [Function: prefinish],\n",
       "     unpipe: [Function: onunpipe],\n",
       "     drain: [Function],\n",
       "     error: [ [Function: onerror], [Function] ],\n",
       "     close: { [Function: bound onceWrapper] listener: [Function: onclose] },\n",
       "     finish: { [Function: bound onceWrapper] listener: [Function: onfinish] },\n",
       "     readable: [Function] },\n",
       "  _eventsCount: 8,\n",
       "  _maxListeners: undefined,\n",
       "  _writableState: \n",
       "   WritableState {\n",
       "     objectMode: false,\n",
       "     highWaterMark: 16384,\n",
       "     finalCalled: false,\n",
       "     needDrain: false,\n",
       "     ending: false,\n",
       "     ended: false,\n",
       "     finished: false,\n",
       "     destroyed: false,\n",
       "     decodeStrings: true,\n",
       "     defaultEncoding: 'utf8',\n",
       "     length: 0,\n",
       "     writing: false,\n",
       "     corked: 0,\n",
       "     sync: true,\n",
       "     bufferProcessing: false,\n",
       "     onwrite: [Function: bound onwrite],\n",
       "     writecb: null,\n",
       "     writelen: 0,\n",
       "     bufferedRequest: null,\n",
       "     lastBufferedRequest: null,\n",
       "     pendingcb: 0,\n",
       "     prefinished: false,\n",
       "     errorEmitted: false,\n",
       "     bufferedRequestCount: 0,\n",
       "     corkedRequestsFree: \n",
       "      { next: null,\n",
       "        entry: null,\n",
       "        finish: [Function: bound onCorkedFinish] } },\n",
       "  writable: true,\n",
       "  allowHalfOpen: true,\n",
       "  _transformState: \n",
       "   { afterTransform: [Function: bound afterTransform],\n",
       "     needTransform: false,\n",
       "     transforming: false,\n",
       "     writecb: null,\n",
       "     writechunk: null,\n",
       "     writeencoding: null },\n",
       "  info: \n",
       "   { comment_lines: 0,\n",
       "     empty_lines: 0,\n",
       "     invalid_field_length: 0,\n",
       "     lines: 1,\n",
       "     records: 0 },\n",
       "  options: \n",
       "   { columns: [ [Object], [Object], [Object] ],\n",
       "     skip_empty_lines: true,\n",
       "     from_line: 2,\n",
       "     bom: false,\n",
       "     cast: undefined,\n",
       "     cast_date: false,\n",
       "     comment: null,\n",
       "     delimiter: <Buffer 2c>,\n",
       "     escape: 34,\n",
       "     from: 1,\n",
       "     info: false,\n",
       "     max_record_size: 0,\n",
       "     objname: undefined,\n",
       "     quote: 34,\n",
       "     raw: false,\n",
       "     record_delimiter: [],\n",
       "     relax: false,\n",
       "     relax_column_count: false,\n",
       "     skip_lines_with_empty_values: false,\n",
       "     skip_lines_with_error: false,\n",
       "     rtrim: false,\n",
       "     ltrim: false,\n",
       "     trim: false,\n",
       "     to: -1,\n",
       "     to_line: -1 },\n",
       "  state: \n",
       "   { bomSkipped: false,\n",
       "     castField: null,\n",
       "     commenting: false,\n",
       "     enabled: false,\n",
       "     escaping: false,\n",
       "     escapeIsQuote: true,\n",
       "     expectedRecordLength: 3,\n",
       "     field: \n",
       "      ResizeableBuffer {\n",
       "        size: 20,\n",
       "        length: 0,\n",
       "        buf: <Buffer 00 00 00 00 00 00 00 00 00 00 00 00 00 00 00 00 00 00 00 00> },\n",
       "     firstLineToHeaders: null,\n",
       "     info: \n",
       "      { comment_lines: 0,\n",
       "        empty_lines: 0,\n",
       "        invalid_field_length: 0,\n",
       "        lines: 1,\n",
       "        records: 0 },\n",
       "     previousBuf: undefined,\n",
       "     quoting: false,\n",
       "     stop: false,\n",
       "     rawBuffer: \n",
       "      ResizeableBuffer {\n",
       "        size: 100,\n",
       "        length: 0,\n",
       "        buf: <Buffer 00 00 00 00 00 00 00 00 00 00 00 00 00 00 00 00 00 00 00 00 00 00 00 00 00 00 00 00 00 00 00 00 00 00 00 00 00 00 00 00 00 00 00 00 00 00 00 00 00 00 ... > },\n",
       "     record: [],\n",
       "     recordHasError: false,\n",
       "     record_length: 0,\n",
       "     recordDelimiterMaxLength: 2,\n",
       "     trimChars: [ 32, 9 ],\n",
       "     wasQuoting: false,\n",
       "     wasRowDelimiter: false } }"
      ]
     },
     "execution_count": 6,
     "metadata": {},
     "output_type": "execute_result"
    },
    {
     "name": "stdout",
     "output_type": "stream",
     "text": [
      "{ TimeCreated: '08/08/2019 04:46:41',\n",
      "  Id: '7001',\n",
      "  Message: 'User Logon Notification for Customer Experience Improvement Program' }\n",
      "{ TimeCreated: '08/08/2019 04:46:39',\n",
      "  Id: '6005',\n",
      "  Message: 'The Event log service was started.' }\n",
      "{ TimeCreated: '08/08/2019 04:46:09',\n",
      "  Id: '7002',\n",
      "  Message: 'User Logoff Notification for Customer Experience Improvement Program' }\n",
      "{ TimeCreated: '08/08/2019 04:46:10',\n",
      "  Id: '6006',\n",
      "  Message: 'The Event log service was stopped.' }\n",
      "{ TimeCreated: '07/08/2019 16:12:22',\n",
      "  Id: '7001',\n",
      "  Message: 'User Logon Notification for Customer Experience Improvement Program' }\n",
      "{ TimeCreated: '07/08/2019 08:03:10',\n",
      "  Id: '7002',\n",
      "  Message: 'User Logoff Notification for Customer Experience Improvement Program' }\n",
      "{ TimeCreated: '07/08/2019 05:51:08',\n",
      "  Id: '7001',\n",
      "  Message: 'User Logon Notification for Customer Experience Improvement Program' }\n"
     ]
    }
   ],
   "source": [
    "readableStream.pipe(parser);\n",
    "\n",
    "console.log(\"------------- start\");\n",
    "let lst = [];\n",
    "parser.on('readable', () => {\n",
    "  var data;\n",
    "  while (data = parser.read()) {\n",
    "    lst.push(data);\n",
    "  }\n",
    "});\n",
    "\n",
    "parser.on('end', () => {\n",
    "    for(l in lst){\n",
    "        console.log(lst[l]);\n",
    "        if(l > 5){\n",
    "            break;\n",
    "        }\n",
    "    }\n",
    "    \n",
    "});\n",
    "\n",
    "parser.on('error', () => {\n",
    "  console.log(\"error have occuered\");\n",
    "});"
   ]
  },
  {
   "cell_type": "code",
   "execution_count": null,
   "metadata": {},
   "outputs": [],
   "source": []
  }
 ],
 "metadata": {
  "kernelspec": {
   "display_name": "Javascript (Node.js)",
   "language": "javascript",
   "name": "javascript"
  },
  "language_info": {
   "file_extension": ".js",
   "mimetype": "application/javascript",
   "name": "javascript",
   "version": "8.16.0"
  }
 },
 "nbformat": 4,
 "nbformat_minor": 2
}
