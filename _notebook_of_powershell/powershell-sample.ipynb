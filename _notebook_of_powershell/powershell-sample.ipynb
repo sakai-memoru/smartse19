{
 "cells": [
  {
   "cell_type": "markdown",
   "metadata": {},
   "source": [
    "# Powershell sample "
   ]
  },
  {
   "cell_type": "markdown",
   "metadata": {},
   "source": [
    "## Environment\n"
   ]
  },
  {
   "cell_type": "code",
   "execution_count": 1,
   "metadata": {},
   "outputs": [
    {
     "name": "stdout",
     "output_type": "stream",
     "text": [
      "$PSVersionTable\n",
      "\n",
      "Name                           Value                                                                                   \n",
      "----                           -----                                                                                   \n",
      "PSVersion                      5.1.17134.765                                                                           \n",
      "PSEdition                      Desktop                                                                                 \n",
      "PSCompatibleVersions           {1.0, 2.0, 3.0, 4.0...}                                                                 \n",
      "BuildVersion                   10.0.17134.765                                                                          \n",
      "CLRVersion                     4.0.30319.42000                                                                         \n",
      "WSManStackVersion              3.0                                                                                     \n",
      "PSRemotingProtocolVersion      2.3                                                                                     \n",
      "SerializationVersion           1.1.0.1                                                                                 \n",
      "\n",
      "\n",
      "\n",
      "\n"
     ]
    }
   ],
   "source": [
    "$PSVersionTable\n"
   ]
  },
  {
   "cell_type": "code",
   "execution_count": 2,
   "metadata": {},
   "outputs": [
    {
     "name": "stdout",
     "output_type": "stream",
     "text": [
      "\n",
      "\n",
      "    Directory: G:\\workspace\\powershells\n",
      "\n",
      "\n",
      "Mode                LastWriteTime         Length Name                                                                  \n",
      "----                -------------         ------ ----                                                                  \n",
      "d-----       29/07/2019     20:21                .ipynb_checkpoints                                                    \n",
      "-a----       28/04/2018     20:02           1340 createMarkdownTemplate.ps1                                            \n",
      "-a----       28/04/2018     18:55             61 Get-ChildItem_startup.ps1                                             \n",
      "-a----       29/07/2019     20:22           3388 powershell-sample.ipynb                                               \n",
      "\n",
      "\n"
     ]
    }
   ],
   "source": [
    "ls"
   ]
  },
  {
   "cell_type": "code",
   "execution_count": null,
   "metadata": {},
   "outputs": [],
   "source": []
  }
 ],
 "metadata": {
  "kernelspec": {
   "display_name": "PowerShell",
   "language": "powershell",
   "name": "powershell"
  },
  "language_info": {
   "codemirror_mode": "shell",
   "file_extension": ".ps1",
   "mimetype": "text/x-sh",
   "name": "powershell"
  }
 },
 "nbformat": 4,
 "nbformat_minor": 2
}
